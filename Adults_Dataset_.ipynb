{
  "nbformat": 4,
  "nbformat_minor": 0,
  "metadata": {
    "colab": {
      "name": "Adults Dataset .ipynb",
      "provenance": [],
      "collapsed_sections": []
    },
    "kernelspec": {
      "name": "python3",
      "display_name": "Python 3"
    },
    "language_info": {
      "name": "python"
    }
  },
  "cells": [
    {
      "cell_type": "code",
      "execution_count": 74,
      "metadata": {
        "id": "sWnj_TpfZ-Z1"
      },
      "outputs": [],
      "source": [
        "import tensorflow as tf\n",
        "from tensorflow import keras\n",
        "from tensorflow.keras import layers\n",
        "\n",
        "import pandas as pd\n",
        "import numpy as np\n",
        "\n",
        "import matplotlib.pyplot as plt"
      ]
    },
    {
      "cell_type": "code",
      "source": [
        "DATASET_PATH = '/content/training_data.csv'"
      ],
      "metadata": {
        "id": "AoPu0_0qaHmV"
      },
      "execution_count": 47,
      "outputs": []
    },
    {
      "cell_type": "code",
      "source": [
        "df = pd.read_csv(DATASET_PATH)"
      ],
      "metadata": {
        "id": "L8wXUrLIbF1v"
      },
      "execution_count": 48,
      "outputs": []
    },
    {
      "cell_type": "code",
      "source": [
        "df.head()"
      ],
      "metadata": {
        "colab": {
          "base_uri": "https://localhost:8080/",
          "height": 299
        },
        "id": "MAdia0zibokq",
        "outputId": "0b9f49d3-37c3-4cd3-e04b-157c910482b1"
      },
      "execution_count": 49,
      "outputs": [
        {
          "output_type": "execute_result",
          "data": {
            "text/plain": [
              "        age    fnlwgt  education_num  capital_gain  capital_loss  \\\n",
              "0  0.030670 -1.063594       1.134721      0.148451     -0.216656   \n",
              "1  0.837096 -1.008692       1.134721     -0.145918     -0.216656   \n",
              "2 -0.042641  0.245075      -0.420053     -0.145918     -0.216656   \n",
              "3  1.057031  0.425795      -1.197440     -0.145918     -0.216656   \n",
              "4 -0.775756  1.408154       1.134721     -0.145918     -0.216656   \n",
              "\n",
              "   hours_per_week  class  workclass_0  workclass_1  workclass_2  ...  \\\n",
              "0       -0.035429      0            0            0            0  ...   \n",
              "1       -2.222119      0            0            0            0  ...   \n",
              "2       -0.035429      0            0            0            0  ...   \n",
              "3       -0.035429      0            0            0            0  ...   \n",
              "4       -0.035429      0            0            0            0  ...   \n",
              "\n",
              "   native_country_32  native_country_33  native_country_34  native_country_35  \\\n",
              "0                  0                  0                  0                  0   \n",
              "1                  0                  0                  0                  0   \n",
              "2                  0                  0                  0                  0   \n",
              "3                  0                  0                  0                  0   \n",
              "4                  0                  0                  0                  0   \n",
              "\n",
              "   native_country_36  native_country_37  native_country_38  native_country_39  \\\n",
              "0                  0                  0                  0                  1   \n",
              "1                  0                  0                  0                  1   \n",
              "2                  0                  0                  0                  1   \n",
              "3                  0                  0                  0                  1   \n",
              "4                  0                  0                  0                  0   \n",
              "\n",
              "   native_country_40  native_country_41  \n",
              "0                  0                  0  \n",
              "1                  0                  0  \n",
              "2                  0                  0  \n",
              "3                  0                  0  \n",
              "4                  0                  0  \n",
              "\n",
              "[5 rows x 109 columns]"
            ],
            "text/html": [
              "\n",
              "  <div id=\"df-98da0ee4-3dee-4173-91ce-c5df86a0f971\">\n",
              "    <div class=\"colab-df-container\">\n",
              "      <div>\n",
              "<style scoped>\n",
              "    .dataframe tbody tr th:only-of-type {\n",
              "        vertical-align: middle;\n",
              "    }\n",
              "\n",
              "    .dataframe tbody tr th {\n",
              "        vertical-align: top;\n",
              "    }\n",
              "\n",
              "    .dataframe thead th {\n",
              "        text-align: right;\n",
              "    }\n",
              "</style>\n",
              "<table border=\"1\" class=\"dataframe\">\n",
              "  <thead>\n",
              "    <tr style=\"text-align: right;\">\n",
              "      <th></th>\n",
              "      <th>age</th>\n",
              "      <th>fnlwgt</th>\n",
              "      <th>education_num</th>\n",
              "      <th>capital_gain</th>\n",
              "      <th>capital_loss</th>\n",
              "      <th>hours_per_week</th>\n",
              "      <th>class</th>\n",
              "      <th>workclass_0</th>\n",
              "      <th>workclass_1</th>\n",
              "      <th>workclass_2</th>\n",
              "      <th>...</th>\n",
              "      <th>native_country_32</th>\n",
              "      <th>native_country_33</th>\n",
              "      <th>native_country_34</th>\n",
              "      <th>native_country_35</th>\n",
              "      <th>native_country_36</th>\n",
              "      <th>native_country_37</th>\n",
              "      <th>native_country_38</th>\n",
              "      <th>native_country_39</th>\n",
              "      <th>native_country_40</th>\n",
              "      <th>native_country_41</th>\n",
              "    </tr>\n",
              "  </thead>\n",
              "  <tbody>\n",
              "    <tr>\n",
              "      <th>0</th>\n",
              "      <td>0.030670</td>\n",
              "      <td>-1.063594</td>\n",
              "      <td>1.134721</td>\n",
              "      <td>0.148451</td>\n",
              "      <td>-0.216656</td>\n",
              "      <td>-0.035429</td>\n",
              "      <td>0</td>\n",
              "      <td>0</td>\n",
              "      <td>0</td>\n",
              "      <td>0</td>\n",
              "      <td>...</td>\n",
              "      <td>0</td>\n",
              "      <td>0</td>\n",
              "      <td>0</td>\n",
              "      <td>0</td>\n",
              "      <td>0</td>\n",
              "      <td>0</td>\n",
              "      <td>0</td>\n",
              "      <td>1</td>\n",
              "      <td>0</td>\n",
              "      <td>0</td>\n",
              "    </tr>\n",
              "    <tr>\n",
              "      <th>1</th>\n",
              "      <td>0.837096</td>\n",
              "      <td>-1.008692</td>\n",
              "      <td>1.134721</td>\n",
              "      <td>-0.145918</td>\n",
              "      <td>-0.216656</td>\n",
              "      <td>-2.222119</td>\n",
              "      <td>0</td>\n",
              "      <td>0</td>\n",
              "      <td>0</td>\n",
              "      <td>0</td>\n",
              "      <td>...</td>\n",
              "      <td>0</td>\n",
              "      <td>0</td>\n",
              "      <td>0</td>\n",
              "      <td>0</td>\n",
              "      <td>0</td>\n",
              "      <td>0</td>\n",
              "      <td>0</td>\n",
              "      <td>1</td>\n",
              "      <td>0</td>\n",
              "      <td>0</td>\n",
              "    </tr>\n",
              "    <tr>\n",
              "      <th>2</th>\n",
              "      <td>-0.042641</td>\n",
              "      <td>0.245075</td>\n",
              "      <td>-0.420053</td>\n",
              "      <td>-0.145918</td>\n",
              "      <td>-0.216656</td>\n",
              "      <td>-0.035429</td>\n",
              "      <td>0</td>\n",
              "      <td>0</td>\n",
              "      <td>0</td>\n",
              "      <td>0</td>\n",
              "      <td>...</td>\n",
              "      <td>0</td>\n",
              "      <td>0</td>\n",
              "      <td>0</td>\n",
              "      <td>0</td>\n",
              "      <td>0</td>\n",
              "      <td>0</td>\n",
              "      <td>0</td>\n",
              "      <td>1</td>\n",
              "      <td>0</td>\n",
              "      <td>0</td>\n",
              "    </tr>\n",
              "    <tr>\n",
              "      <th>3</th>\n",
              "      <td>1.057031</td>\n",
              "      <td>0.425795</td>\n",
              "      <td>-1.197440</td>\n",
              "      <td>-0.145918</td>\n",
              "      <td>-0.216656</td>\n",
              "      <td>-0.035429</td>\n",
              "      <td>0</td>\n",
              "      <td>0</td>\n",
              "      <td>0</td>\n",
              "      <td>0</td>\n",
              "      <td>...</td>\n",
              "      <td>0</td>\n",
              "      <td>0</td>\n",
              "      <td>0</td>\n",
              "      <td>0</td>\n",
              "      <td>0</td>\n",
              "      <td>0</td>\n",
              "      <td>0</td>\n",
              "      <td>1</td>\n",
              "      <td>0</td>\n",
              "      <td>0</td>\n",
              "    </tr>\n",
              "    <tr>\n",
              "      <th>4</th>\n",
              "      <td>-0.775756</td>\n",
              "      <td>1.408154</td>\n",
              "      <td>1.134721</td>\n",
              "      <td>-0.145918</td>\n",
              "      <td>-0.216656</td>\n",
              "      <td>-0.035429</td>\n",
              "      <td>0</td>\n",
              "      <td>0</td>\n",
              "      <td>0</td>\n",
              "      <td>0</td>\n",
              "      <td>...</td>\n",
              "      <td>0</td>\n",
              "      <td>0</td>\n",
              "      <td>0</td>\n",
              "      <td>0</td>\n",
              "      <td>0</td>\n",
              "      <td>0</td>\n",
              "      <td>0</td>\n",
              "      <td>0</td>\n",
              "      <td>0</td>\n",
              "      <td>0</td>\n",
              "    </tr>\n",
              "  </tbody>\n",
              "</table>\n",
              "<p>5 rows × 109 columns</p>\n",
              "</div>\n",
              "      <button class=\"colab-df-convert\" onclick=\"convertToInteractive('df-98da0ee4-3dee-4173-91ce-c5df86a0f971')\"\n",
              "              title=\"Convert this dataframe to an interactive table.\"\n",
              "              style=\"display:none;\">\n",
              "        \n",
              "  <svg xmlns=\"http://www.w3.org/2000/svg\" height=\"24px\"viewBox=\"0 0 24 24\"\n",
              "       width=\"24px\">\n",
              "    <path d=\"M0 0h24v24H0V0z\" fill=\"none\"/>\n",
              "    <path d=\"M18.56 5.44l.94 2.06.94-2.06 2.06-.94-2.06-.94-.94-2.06-.94 2.06-2.06.94zm-11 1L8.5 8.5l.94-2.06 2.06-.94-2.06-.94L8.5 2.5l-.94 2.06-2.06.94zm10 10l.94 2.06.94-2.06 2.06-.94-2.06-.94-.94-2.06-.94 2.06-2.06.94z\"/><path d=\"M17.41 7.96l-1.37-1.37c-.4-.4-.92-.59-1.43-.59-.52 0-1.04.2-1.43.59L10.3 9.45l-7.72 7.72c-.78.78-.78 2.05 0 2.83L4 21.41c.39.39.9.59 1.41.59.51 0 1.02-.2 1.41-.59l7.78-7.78 2.81-2.81c.8-.78.8-2.07 0-2.86zM5.41 20L4 18.59l7.72-7.72 1.47 1.35L5.41 20z\"/>\n",
              "  </svg>\n",
              "      </button>\n",
              "      \n",
              "  <style>\n",
              "    .colab-df-container {\n",
              "      display:flex;\n",
              "      flex-wrap:wrap;\n",
              "      gap: 12px;\n",
              "    }\n",
              "\n",
              "    .colab-df-convert {\n",
              "      background-color: #E8F0FE;\n",
              "      border: none;\n",
              "      border-radius: 50%;\n",
              "      cursor: pointer;\n",
              "      display: none;\n",
              "      fill: #1967D2;\n",
              "      height: 32px;\n",
              "      padding: 0 0 0 0;\n",
              "      width: 32px;\n",
              "    }\n",
              "\n",
              "    .colab-df-convert:hover {\n",
              "      background-color: #E2EBFA;\n",
              "      box-shadow: 0px 1px 2px rgba(60, 64, 67, 0.3), 0px 1px 3px 1px rgba(60, 64, 67, 0.15);\n",
              "      fill: #174EA6;\n",
              "    }\n",
              "\n",
              "    [theme=dark] .colab-df-convert {\n",
              "      background-color: #3B4455;\n",
              "      fill: #D2E3FC;\n",
              "    }\n",
              "\n",
              "    [theme=dark] .colab-df-convert:hover {\n",
              "      background-color: #434B5C;\n",
              "      box-shadow: 0px 1px 3px 1px rgba(0, 0, 0, 0.15);\n",
              "      filter: drop-shadow(0px 1px 2px rgba(0, 0, 0, 0.3));\n",
              "      fill: #FFFFFF;\n",
              "    }\n",
              "  </style>\n",
              "\n",
              "      <script>\n",
              "        const buttonEl =\n",
              "          document.querySelector('#df-98da0ee4-3dee-4173-91ce-c5df86a0f971 button.colab-df-convert');\n",
              "        buttonEl.style.display =\n",
              "          google.colab.kernel.accessAllowed ? 'block' : 'none';\n",
              "\n",
              "        async function convertToInteractive(key) {\n",
              "          const element = document.querySelector('#df-98da0ee4-3dee-4173-91ce-c5df86a0f971');\n",
              "          const dataTable =\n",
              "            await google.colab.kernel.invokeFunction('convertToInteractive',\n",
              "                                                     [key], {});\n",
              "          if (!dataTable) return;\n",
              "\n",
              "          const docLinkHtml = 'Like what you see? Visit the ' +\n",
              "            '<a target=\"_blank\" href=https://colab.research.google.com/notebooks/data_table.ipynb>data table notebook</a>'\n",
              "            + ' to learn more about interactive tables.';\n",
              "          element.innerHTML = '';\n",
              "          dataTable['output_type'] = 'display_data';\n",
              "          await google.colab.output.renderOutput(dataTable, element);\n",
              "          const docLink = document.createElement('div');\n",
              "          docLink.innerHTML = docLinkHtml;\n",
              "          element.appendChild(docLink);\n",
              "        }\n",
              "      </script>\n",
              "    </div>\n",
              "  </div>\n",
              "  "
            ]
          },
          "metadata": {},
          "execution_count": 49
        }
      ]
    },
    {
      "cell_type": "code",
      "source": [
        "Y = df['class']\n",
        "X = df.drop(['class'], axis=1)"
      ],
      "metadata": {
        "id": "fvY1T4-PbuR6"
      },
      "execution_count": 50,
      "outputs": []
    },
    {
      "cell_type": "code",
      "source": [
        "X.shape"
      ],
      "metadata": {
        "colab": {
          "base_uri": "https://localhost:8080/"
        },
        "id": "d9e72iU0b4nh",
        "outputId": "5a33e4b7-66f6-4259-8073-082080c60e0d"
      },
      "execution_count": 51,
      "outputs": [
        {
          "output_type": "execute_result",
          "data": {
            "text/plain": [
              "(32561, 108)"
            ]
          },
          "metadata": {},
          "execution_count": 51
        }
      ]
    },
    {
      "cell_type": "code",
      "source": [
        "model = keras.models.Sequential([\n",
        "  layers.Input(shape=(108,), name='input_layer'),\n",
        "  layers.Dense(256, activation='relu', name='fc_1'),\n",
        "  layers.Dropout(.2, name='dropout_1'),\n",
        "  layers.Dense(256, activation='relu', name='fc_2'),\n",
        "  layers.Dropout(.2, name='dropout_2'),\n",
        "  layers.Dense(1, activation='sigmoid', name='output_layer')\n",
        "], name='dense_model')"
      ],
      "metadata": {
        "id": "KiWFJ7PQbycg"
      },
      "execution_count": 66,
      "outputs": []
    },
    {
      "cell_type": "code",
      "source": [
        "model.summary()"
      ],
      "metadata": {
        "colab": {
          "base_uri": "https://localhost:8080/"
        },
        "id": "_WzEYNlbcLLD",
        "outputId": "b08daaaf-3293-4e04-cbcd-dd1867607647"
      },
      "execution_count": 67,
      "outputs": [
        {
          "output_type": "stream",
          "name": "stdout",
          "text": [
            "Model: \"dense_model\"\n",
            "_________________________________________________________________\n",
            " Layer (type)                Output Shape              Param #   \n",
            "=================================================================\n",
            " fc_1 (Dense)                (None, 256)               27904     \n",
            "                                                                 \n",
            " dropout_1 (Dropout)         (None, 256)               0         \n",
            "                                                                 \n",
            " fc_2 (Dense)                (None, 256)               65792     \n",
            "                                                                 \n",
            " dropout_2 (Dropout)         (None, 256)               0         \n",
            "                                                                 \n",
            " output_layer (Dense)        (None, 1)                 257       \n",
            "                                                                 \n",
            "=================================================================\n",
            "Total params: 93,953\n",
            "Trainable params: 93,953\n",
            "Non-trainable params: 0\n",
            "_________________________________________________________________\n"
          ]
        }
      ]
    },
    {
      "cell_type": "code",
      "source": [
        "model(np.zeros((10, 108)))"
      ],
      "metadata": {
        "colab": {
          "base_uri": "https://localhost:8080/"
        },
        "id": "dLu7NxwucMMe",
        "outputId": "aa2b9fc1-e3c9-49f2-d1b4-63eb51bb6804"
      },
      "execution_count": 68,
      "outputs": [
        {
          "output_type": "execute_result",
          "data": {
            "text/plain": [
              "<tf.Tensor: shape=(10, 1), dtype=float32, numpy=\n",
              "array([[0.5],\n",
              "       [0.5],\n",
              "       [0.5],\n",
              "       [0.5],\n",
              "       [0.5],\n",
              "       [0.5],\n",
              "       [0.5],\n",
              "       [0.5],\n",
              "       [0.5],\n",
              "       [0.5]], dtype=float32)>"
            ]
          },
          "metadata": {},
          "execution_count": 68
        }
      ]
    },
    {
      "cell_type": "code",
      "source": [
        "model.compile(loss='binary_crossentropy',\n",
        "              optimizer='adam', \n",
        "              metrics=['accuracy',\n",
        "                       keras.metrics.Recall(name='recall'),\n",
        "                       keras.metrics.Precision(name='precision')])"
      ],
      "metadata": {
        "id": "Qk30ZPL_cS2i"
      },
      "execution_count": 69,
      "outputs": []
    },
    {
      "cell_type": "code",
      "source": [
        "checkpoint_path = './model/'\n",
        "callbacks = [keras.callbacks.EarlyStopping(monitor='val_loss', patience=5),\n",
        "             keras.callbacks.ModelCheckpoint(filepath=checkpoint_path,\n",
        "                                             monitor='val_loss',\n",
        "                                             mode='min')]\n",
        "\n",
        "history = model.fit(X, Y, epochs=500, batch_size=128, validation_split=.2, callbacks=callbacks)"
      ],
      "metadata": {
        "colab": {
          "base_uri": "https://localhost:8080/"
        },
        "id": "4lK1Gq8pcxA_",
        "outputId": "bec4c1a7-75fb-47f6-b7f4-24f61f97b78f"
      },
      "execution_count": 70,
      "outputs": [
        {
          "output_type": "stream",
          "name": "stdout",
          "text": [
            "Epoch 1/500\n",
            "199/204 [============================>.] - ETA: 0s - loss: 0.3405 - accuracy: 0.8413 - recall: 0.5568 - precision: 0.7197INFO:tensorflow:Assets written to: ./model/assets\n",
            "204/204 [==============================] - 3s 13ms/step - loss: 0.3396 - accuracy: 0.8420 - recall: 0.5600 - precision: 0.7184 - val_loss: 0.3081 - val_accuracy: 0.8537 - val_recall: 0.6431 - val_precision: 0.7293\n",
            "Epoch 2/500\n",
            "202/204 [============================>.] - ETA: 0s - loss: 0.3102 - accuracy: 0.8578 - recall: 0.6255 - precision: 0.7402INFO:tensorflow:Assets written to: ./model/assets\n",
            "204/204 [==============================] - 2s 10ms/step - loss: 0.3101 - accuracy: 0.8578 - recall: 0.6252 - precision: 0.7408 - val_loss: 0.3060 - val_accuracy: 0.8561 - val_recall: 0.6294 - val_precision: 0.7454\n",
            "Epoch 3/500\n",
            "204/204 [==============================] - ETA: 0s - loss: 0.3043 - accuracy: 0.8596 - recall: 0.6368 - precision: 0.7409INFO:tensorflow:Assets written to: ./model/assets\n",
            "204/204 [==============================] - 3s 13ms/step - loss: 0.3043 - accuracy: 0.8596 - recall: 0.6368 - precision: 0.7409 - val_loss: 0.3093 - val_accuracy: 0.8540 - val_recall: 0.5675 - val_precision: 0.7781\n",
            "Epoch 4/500\n",
            "201/204 [============================>.] - ETA: 0s - loss: 0.3021 - accuracy: 0.8602 - recall: 0.6315 - precision: 0.7470INFO:tensorflow:Assets written to: ./model/assets\n",
            "204/204 [==============================] - 2s 9ms/step - loss: 0.3020 - accuracy: 0.8604 - recall: 0.6311 - precision: 0.7469 - val_loss: 0.3096 - val_accuracy: 0.8552 - val_recall: 0.5969 - val_precision: 0.7622\n",
            "Epoch 5/500\n",
            "200/204 [============================>.] - ETA: 0s - loss: 0.2987 - accuracy: 0.8605 - recall: 0.6353 - precision: 0.7463INFO:tensorflow:Assets written to: ./model/assets\n",
            "204/204 [==============================] - 2s 10ms/step - loss: 0.2988 - accuracy: 0.8608 - recall: 0.6352 - precision: 0.7460 - val_loss: 0.3067 - val_accuracy: 0.8561 - val_recall: 0.6388 - val_precision: 0.7400\n",
            "Epoch 6/500\n",
            "204/204 [==============================] - ETA: 0s - loss: 0.2955 - accuracy: 0.8633 - recall: 0.6440 - precision: 0.7502INFO:tensorflow:Assets written to: ./model/assets\n",
            "204/204 [==============================] - 2s 9ms/step - loss: 0.2955 - accuracy: 0.8633 - recall: 0.6440 - precision: 0.7502 - val_loss: 0.3087 - val_accuracy: 0.8561 - val_recall: 0.6275 - val_precision: 0.7465\n",
            "Epoch 7/500\n",
            "199/204 [============================>.] - ETA: 0s - loss: 0.2927 - accuracy: 0.8640 - recall: 0.6468 - precision: 0.7534INFO:tensorflow:Assets written to: ./model/assets\n",
            "204/204 [==============================] - 2s 9ms/step - loss: 0.2926 - accuracy: 0.8644 - recall: 0.6470 - precision: 0.7525 - val_loss: 0.3142 - val_accuracy: 0.8549 - val_recall: 0.5788 - val_precision: 0.7736\n"
          ]
        }
      ]
    },
    {
      "cell_type": "code",
      "source": [
        "model.load_weights(checkpoint_path)"
      ],
      "metadata": {
        "colab": {
          "base_uri": "https://localhost:8080/"
        },
        "id": "uX3lhQXvc1SP",
        "outputId": "bd3ca3f5-9974-44ac-a487-87681bd2bba8"
      },
      "execution_count": 71,
      "outputs": [
        {
          "output_type": "execute_result",
          "data": {
            "text/plain": [
              "<tensorflow.python.training.tracking.util.CheckpointLoadStatus at 0x7f09ae35c0d0>"
            ]
          },
          "metadata": {},
          "execution_count": 71
        }
      ]
    },
    {
      "cell_type": "code",
      "source": [
        "history.history.keys()"
      ],
      "metadata": {
        "colab": {
          "base_uri": "https://localhost:8080/"
        },
        "id": "Me0egz-9fcj8",
        "outputId": "9b4ef1e9-6caf-4d30-b1b7-f826de3ea4c5"
      },
      "execution_count": 72,
      "outputs": [
        {
          "output_type": "execute_result",
          "data": {
            "text/plain": [
              "dict_keys(['loss', 'accuracy', 'recall', 'precision', 'val_loss', 'val_accuracy', 'val_recall', 'val_precision'])"
            ]
          },
          "metadata": {},
          "execution_count": 72
        }
      ]
    },
    {
      "cell_type": "code",
      "source": [
        "plt.plot(history.history['loss'], label='loss', color='blue')\n",
        "plt.plot(history.history['val_loss'], label='val_loss', color='red')\n",
        "plt.legend()\n",
        "plt.show()"
      ],
      "metadata": {
        "colab": {
          "base_uri": "https://localhost:8080/",
          "height": 265
        },
        "id": "0x38cXQ-fqaO",
        "outputId": "bea986ab-903c-4cef-c6cd-977d2211b023"
      },
      "execution_count": 75,
      "outputs": [
        {
          "output_type": "display_data",
          "data": {
            "text/plain": [
              "<Figure size 432x288 with 1 Axes>"
            ],
            "image/png": "[encoded data removed]"
          },
          "metadata": {
            "needs_background": "light"
          }
        }
      ]
    },
    {
      "cell_type": "code",
      "source": [
        "plt.plot(history.history['accuracy'], label='accuracy', color='blue')\n",
        "plt.plot(history.history['val_accuracy'], label='val_accuracy', color='red')\n",
        "plt.legend()\n",
        "plt.show()"
      ],
      "metadata": {
        "colab": {
          "base_uri": "https://localhost:8080/",
          "height": 265
        },
        "id": "eIi4eRtBgEbu",
        "outputId": "f84540ab-9399-4f1d-cf0a-25be41330e67"
      },
      "execution_count": 76,
      "outputs": [
        {
          "output_type": "display_data",
          "data": {
            "text/plain": [
              "<Figure size 432x288 with 1 Axes>"
            ],
            "image/png": "[encoded data removed]"
          },
          "metadata": {
            "needs_background": "light"
          }
        }
      ]
    },
    {
      "cell_type": "code",
      "source": [
        "plt.plot(history.history['recall'], label='recall', color='blue')\n",
        "plt.plot(history.history['val_recall'], label='val_recall', color='red')\n",
        "plt.legend()\n",
        "plt.show()"
      ],
      "metadata": {
        "colab": {
          "base_uri": "https://localhost:8080/",
          "height": 265
        },
        "id": "tIAIvr6DgMBP",
        "outputId": "ca0a1883-7f14-47d2-8956-e07fc8eb2b73"
      },
      "execution_count": 77,
      "outputs": [
        {
          "output_type": "display_data",
          "data": {
            "text/plain": [
              "<Figure size 432x288 with 1 Axes>"
            ],
            "image/png": "[encoded data removed]"
          },
          "metadata": {
            "needs_background": "light"
          }
        }
      ]
    },
    {
      "cell_type": "code",
      "source": [
        "plt.plot(history.history['precision'], label='precision', color='blue')\n",
        "plt.plot(history.history['val_precision'], label='val_precision', color='red')\n",
        "plt.legend()\n",
        "plt.show()"
      ],
      "metadata": {
        "colab": {
          "base_uri": "https://localhost:8080/",
          "height": 266
        },
        "id": "n0D1n4uqgSbu",
        "outputId": "fdeb449e-e82d-4588-f4f5-a8de714f0826"
      },
      "execution_count": 79,
      "outputs": [
        {
          "output_type": "display_data",
          "data": {
            "text/plain": [
              "<Figure size 432x288 with 1 Axes>"
            ],
            "image/png": "[encoded data removed]"
          },
          "metadata": {
            "needs_background": "light"
          }
        }
      ]
    },
    {
      "cell_type": "code",
      "source": [
        ""
      ],
      "metadata": {
        "id": "h583Rx4NgWIm"
      },
      "execution_count": null,
      "outputs": []
    }
  ]
}